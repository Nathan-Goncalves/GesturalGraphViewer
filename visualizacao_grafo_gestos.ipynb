{
 "cells": [
  {
   "cell_type": "code",
   "execution_count": 1,
   "id": "03ec15f8",
   "metadata": {},
   "outputs": [],
   "source": [
    "import cv2\n",
    "import mediapipe as mp\n",
    "import numpy as np\n",
    "import networkx as nx\n",
    "import plotly.graph_objects as go"
   ]
  },
  {
   "cell_type": "markdown",
   "id": "2952c33b",
   "metadata": {},
   "source": [
    "## Setup MediaPipe\n"
   ]
  },
  {
   "cell_type": "code",
   "execution_count": 2,
   "id": "68a159be",
   "metadata": {},
   "outputs": [],
   "source": [
    "mp_hands = mp.solutions.hands\n",
    "hands = mp_hands.Hands(max_num_hands=1, min_detection_confidence=0.7)\n",
    "mp_drawing = mp.solutions.drawing_utils\n",
    "\n",
    "def create_3d_graph():\n",
    "    G = nx.random_geometric_graph(10, 0.5, dim=3)\n",
    "    pos = nx.get_node_attributes(G, 'pos')\n",
    "    for k, v in pos.items():\n",
    "        G.nodes[k]['pos'] = np.array(v)\n",
    "    return G\n"
   ]
  },
  {
   "cell_type": "markdown",
   "id": "421accdf",
   "metadata": {},
   "source": [
    "## Inicia câmera e manipulação"
   ]
  },
  {
   "cell_type": "code",
   "execution_count": 8,
   "id": "fd8045a6",
   "metadata": {},
   "outputs": [],
   "source": [
    "cap = cv2.VideoCapture(0)\n",
    "prev_x, prev_y = None, None\n",
    "camera_eye = dict(x=1.25, y=1.25, z=1.25)\n",
    "G = create_3d_graph()\n",
    "\n",
    "\n",
    "while True:\n",
    "    ret, frame = cap.read()\n",
    "    if not ret:\n",
    "        break\n",
    "\n",
    "    frame_rgb = cv2.cvtColor(cv2.flip(frame, 1), cv2.COLOR_BGR2RGB)\n",
    "    results = hands.process(frame_rgb)\n",
    "\n",
    "    if results.multi_hand_landmarks:\n",
    "        hand_landmarks = results.multi_hand_landmarks[0]\n",
    "        index_finger = hand_landmarks.landmark[8]  # dedo indicador\n",
    "\n",
    "        h, w, _ = frame.shape\n",
    "        x = int(index_finger.x * w)\n",
    "        y = int(index_finger.y * h)\n",
    "\n",
    "        if prev_x is not None and prev_y is not None:\n",
    "            dx = (x - prev_x) / 100.0\n",
    "            dy = (y - prev_y) / 100.0\n",
    "            camera_eye['x'] += dx\n",
    "            camera_eye['y'] -= dy\n",
    "\n",
    "        prev_x, prev_y = x, y\n",
    "\n",
    "        mp_drawing.draw_landmarks(frame, hand_landmarks, mp_hands.HAND_CONNECTIONS)\n",
    "\n",
    "    cv2.imshow(\"Camera - Controle do grafo - Pressione 'q' para sair.\", frame)\n",
    "    if cv2.waitKey(5) & 0xFF == ord('q'):\n",
    "        break\n",
    "\n",
    "cap.release()\n",
    "cv2.destroyAllWindows()\n"
   ]
  }
 ],
 "metadata": {
  "kernelspec": {
   "display_name": "Python 3",
   "language": "python",
   "name": "python3"
  },
  "language_info": {
   "codemirror_mode": {
    "name": "ipython",
    "version": 3
   },
   "file_extension": ".py",
   "mimetype": "text/x-python",
   "name": "python",
   "nbconvert_exporter": "python",
   "pygments_lexer": "ipython3",
   "version": "3.11.8"
  }
 },
 "nbformat": 4,
 "nbformat_minor": 5
}
